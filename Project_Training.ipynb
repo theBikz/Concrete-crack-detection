{
 "cells": [
  {
   "cell_type": "code",
   "execution_count": 1,
   "metadata": {
    "colab": {
     "base_uri": "https://localhost:8080/",
     "height": 62
    },
    "colab_type": "code",
    "id": "99RCcgF5oX2q",
    "outputId": "572a9fac-057c-42b6-e0b1-20f912b2293c"
   },
   "outputs": [
    {
     "data": {
      "text/html": [
       "<p style=\"color: red;\">\n",
       "The default version of TensorFlow in Colab will soon switch to TensorFlow 2.x.<br>\n",
       "We recommend you <a href=\"https://www.tensorflow.org/guide/migrate\" target=\"_blank\">upgrade</a> now \n",
       "or ensure your notebook will continue to use TensorFlow 1.x via the <code>%tensorflow_version 1.x</code> magic:\n",
       "<a href=\"https://colab.research.google.com/notebooks/tensorflow_version.ipynb\" target=\"_blank\">more info</a>.</p>\n"
      ],
      "text/plain": [
       "<IPython.core.display.HTML object>"
      ]
     },
     "metadata": {
      "tags": []
     },
     "output_type": "display_data"
    }
   ],
   "source": [
    "import tensorflow as tf\n",
    "from tensorflow.keras.models import Sequential\n",
    "from tensorflow.keras.layers import Dense, Dropout, Activation, Flatten, Conv2D, MaxPooling2D\n",
    "import numpy as np\n",
    "import h5py"
   ]
  },
  {
   "cell_type": "code",
   "execution_count": 2,
   "metadata": {
    "colab": {
     "base_uri": "https://localhost:8080/",
     "height": 121
    },
    "colab_type": "code",
    "id": "ql0d4rfjos05",
    "outputId": "ae7f707f-9c4d-4521-d2aa-6a9bdee2d71b"
   },
   "outputs": [
    {
     "name": "stdout",
     "output_type": "stream",
     "text": [
      "Go to this URL in a browser: https://accounts.google.com/o/oauth2/auth?client_id=947318989803-6bn6qk8qdgf4n4g3pfee6491hc0brc4i.apps.googleusercontent.com&redirect_uri=urn%3aietf%3awg%3aoauth%3a2.0%3aoob&response_type=code&scope=email%20https%3a%2f%2fwww.googleapis.com%2fauth%2fdocs.test%20https%3a%2f%2fwww.googleapis.com%2fauth%2fdrive%20https%3a%2f%2fwww.googleapis.com%2fauth%2fdrive.photos.readonly%20https%3a%2f%2fwww.googleapis.com%2fauth%2fpeopleapi.readonly\n",
      "\n",
      "Enter your authorization code:\n",
      "··········\n",
      "Mounted at /content/drive\n"
     ]
    }
   ],
   "source": [
    "from google.colab import drive\n",
    "drive.mount('/content/drive')"
   ]
  },
  {
   "cell_type": "code",
   "execution_count": 0,
   "metadata": {
    "colab": {},
    "colab_type": "code",
    "id": "jXe0ACqXxHu4"
   },
   "outputs": [],
   "source": [
    "img_size = 256"
   ]
  },
  {
   "cell_type": "code",
   "execution_count": 0,
   "metadata": {
    "colab": {},
    "colab_type": "code",
    "id": "vkhAc_KTxUCl"
   },
   "outputs": [],
   "source": [
    "path = (\"drive/My Drive/dataset/concrete_crack_image_data.h5\")"
   ]
  },
  {
   "cell_type": "code",
   "execution_count": 0,
   "metadata": {
    "colab": {},
    "colab_type": "code",
    "id": "Ga81mGa5xUee"
   },
   "outputs": [],
   "source": [
    "hf = h5py.File(path,'r')"
   ]
  },
  {
   "cell_type": "code",
   "execution_count": 0,
   "metadata": {
    "colab": {},
    "colab_type": "code",
    "id": "G4K8vwiKxUrR"
   },
   "outputs": [],
   "source": [
    "X = np.array(hf.get('X_concrete'))\n",
    "y = np.array(hf.get(\"y_concrete\"))\n",
    "hf.close()"
   ]
  },
  {
   "cell_type": "code",
   "execution_count": 0,
   "metadata": {
    "colab": {},
    "colab_type": "code",
    "id": "wfYPIp92xU2P"
   },
   "outputs": [],
   "source": [
    "X = X / 255"
   ]
  },
  {
   "cell_type": "code",
   "execution_count": 8,
   "metadata": {
    "colab": {
     "base_uri": "https://localhost:8080/",
     "height": 87
    },
    "colab_type": "code",
    "id": "jYcLhLGpyPrU",
    "outputId": "71d9a090-c514-4067-970e-1614c1b35c2e"
   },
   "outputs": [
    {
     "name": "stdout",
     "output_type": "stream",
     "text": [
      "WARNING:tensorflow:From /usr/local/lib/python3.6/dist-packages/tensorflow_core/python/ops/resource_variable_ops.py:1630: calling BaseResourceVariable.__init__ (from tensorflow.python.ops.resource_variable_ops) with constraint is deprecated and will be removed in a future version.\n",
      "Instructions for updating:\n",
      "If using Keras pass *_constraint arguments to layers.\n"
     ]
    }
   ],
   "source": [
    "model = Sequential()\n",
    "\n",
    "model.add(Conv2D(16, (3, 3), activation = \"relu\", input_shape = (img_size, img_size, 1)))\n",
    "model.add(MaxPooling2D(pool_size = (2, 2)))\n",
    "model.add(Dropout(.3))\n",
    "\n",
    "model.add(Conv2D(32, (3, 3), activation = \"relu\"))\n",
    "model.add(MaxPooling2D(pool_size = (2, 2)))\n",
    "model.add(Dropout(.3))\n",
    "\n",
    "model.add(Conv2D(32, (3, 3), activation = \"relu\"))\n",
    "model.add(MaxPooling2D(pool_size = (2, 2)))\n",
    "model.add(Dropout(.3))\n",
    "\n",
    "model.add(Flatten())\n",
    "model.add(Dense(258, activation = \"relu\"))\n",
    "\n",
    "model.add(Dense(1, activation = \"sigmoid\"))"
   ]
  },
  {
   "cell_type": "code",
   "execution_count": 9,
   "metadata": {
    "colab": {
     "base_uri": "https://localhost:8080/",
     "height": 87
    },
    "colab_type": "code",
    "id": "kbaVbzNcyP4o",
    "outputId": "a85f87ab-58ba-4b94-8af6-fabb5064b06e"
   },
   "outputs": [
    {
     "name": "stdout",
     "output_type": "stream",
     "text": [
      "WARNING:tensorflow:From /usr/local/lib/python3.6/dist-packages/tensorflow_core/python/ops/nn_impl.py:183: where (from tensorflow.python.ops.array_ops) is deprecated and will be removed in a future version.\n",
      "Instructions for updating:\n",
      "Use tf.where in 2.0, which has the same broadcast rule as np.where\n"
     ]
    }
   ],
   "source": [
    "model.compile(loss = \"binary_crossentropy\", optimizer = \"adam\", metrics = [\"accuracy\"])"
   ]
  },
  {
   "cell_type": "code",
   "execution_count": 11,
   "metadata": {
    "colab": {
     "base_uri": "https://localhost:8080/",
     "height": 1000
    },
    "colab_type": "code",
    "id": "7wdJRtkqyQD7",
    "outputId": "e9100ece-1570-435a-866e-2239db44dc82"
   },
   "outputs": [
    {
     "name": "stdout",
     "output_type": "stream",
     "text": [
      "Train on 32000 samples, validate on 8000 samples\n",
      "Epoch 1/30\n",
      "32000/32000 [==============================] - 27s 844us/sample - loss: 0.1479 - acc: 0.9348 - val_loss: 0.0517 - val_acc: 0.9862\n",
      "Epoch 2/30\n",
      "32000/32000 [==============================] - 21s 654us/sample - loss: 0.0469 - acc: 0.9848 - val_loss: 0.0420 - val_acc: 0.9870\n",
      "Epoch 3/30\n",
      "32000/32000 [==============================] - 21s 653us/sample - loss: 0.0287 - acc: 0.9911 - val_loss: 0.0288 - val_acc: 0.9906\n",
      "Epoch 4/30\n",
      "32000/32000 [==============================] - 21s 653us/sample - loss: 0.0241 - acc: 0.9923 - val_loss: 0.0264 - val_acc: 0.9898\n",
      "Epoch 5/30\n",
      "32000/32000 [==============================] - 21s 650us/sample - loss: 0.0198 - acc: 0.9934 - val_loss: 0.0316 - val_acc: 0.9891\n",
      "Epoch 6/30\n",
      "32000/32000 [==============================] - 21s 654us/sample - loss: 0.0175 - acc: 0.9945 - val_loss: 0.0195 - val_acc: 0.9940\n",
      "Epoch 7/30\n",
      "32000/32000 [==============================] - 21s 650us/sample - loss: 0.0130 - acc: 0.9957 - val_loss: 0.0221 - val_acc: 0.9935\n",
      "Epoch 8/30\n",
      "32000/32000 [==============================] - 21s 655us/sample - loss: 0.0137 - acc: 0.9954 - val_loss: 0.0268 - val_acc: 0.9914\n",
      "Epoch 9/30\n",
      "32000/32000 [==============================] - 21s 652us/sample - loss: 0.0132 - acc: 0.9958 - val_loss: 0.0141 - val_acc: 0.9958\n",
      "Epoch 10/30\n",
      "32000/32000 [==============================] - 21s 653us/sample - loss: 0.0099 - acc: 0.9970 - val_loss: 0.0141 - val_acc: 0.9961\n",
      "Epoch 11/30\n",
      "32000/32000 [==============================] - 21s 653us/sample - loss: 0.0077 - acc: 0.9979 - val_loss: 0.0134 - val_acc: 0.9951\n",
      "Epoch 12/30\n",
      "32000/32000 [==============================] - 21s 654us/sample - loss: 0.0089 - acc: 0.9973 - val_loss: 0.0153 - val_acc: 0.9948\n",
      "Epoch 13/30\n",
      "32000/32000 [==============================] - 21s 656us/sample - loss: 0.0072 - acc: 0.9980 - val_loss: 0.0230 - val_acc: 0.9944\n",
      "Epoch 14/30\n",
      "32000/32000 [==============================] - 21s 654us/sample - loss: 0.0068 - acc: 0.9977 - val_loss: 0.0154 - val_acc: 0.9959\n",
      "Epoch 15/30\n",
      "32000/32000 [==============================] - 21s 657us/sample - loss: 0.0050 - acc: 0.9983 - val_loss: 0.0106 - val_acc: 0.9976\n",
      "Epoch 16/30\n",
      "32000/32000 [==============================] - 21s 653us/sample - loss: 0.0047 - acc: 0.9987 - val_loss: 0.0130 - val_acc: 0.9971\n",
      "Epoch 17/30\n",
      "32000/32000 [==============================] - 21s 650us/sample - loss: 0.0064 - acc: 0.9983 - val_loss: 0.0124 - val_acc: 0.9970\n",
      "Epoch 18/30\n",
      "32000/32000 [==============================] - 21s 649us/sample - loss: 0.0116 - acc: 0.9969 - val_loss: 0.0144 - val_acc: 0.9967\n",
      "Epoch 19/30\n",
      "32000/32000 [==============================] - 21s 650us/sample - loss: 0.0039 - acc: 0.9988 - val_loss: 0.0154 - val_acc: 0.9969\n",
      "Epoch 20/30\n",
      "32000/32000 [==============================] - 21s 657us/sample - loss: 0.0042 - acc: 0.9989 - val_loss: 0.0141 - val_acc: 0.9969\n",
      "Epoch 21/30\n",
      "32000/32000 [==============================] - 21s 659us/sample - loss: 0.0044 - acc: 0.9986 - val_loss: 0.0122 - val_acc: 0.9974\n",
      "Epoch 22/30\n",
      "32000/32000 [==============================] - 21s 655us/sample - loss: 0.0031 - acc: 0.9990 - val_loss: 0.0163 - val_acc: 0.9966\n",
      "Epoch 23/30\n",
      "32000/32000 [==============================] - 21s 650us/sample - loss: 0.0030 - acc: 0.9992 - val_loss: 0.0167 - val_acc: 0.9969\n",
      "Epoch 24/30\n",
      "32000/32000 [==============================] - 21s 647us/sample - loss: 0.0053 - acc: 0.9984 - val_loss: 0.0171 - val_acc: 0.9966\n",
      "Epoch 25/30\n",
      "32000/32000 [==============================] - 21s 650us/sample - loss: 0.0024 - acc: 0.9993 - val_loss: 0.0140 - val_acc: 0.9975\n",
      "Epoch 26/30\n",
      "32000/32000 [==============================] - 21s 653us/sample - loss: 0.0042 - acc: 0.9989 - val_loss: 0.0109 - val_acc: 0.9973\n",
      "Epoch 27/30\n",
      "32000/32000 [==============================] - 21s 654us/sample - loss: 0.0047 - acc: 0.9987 - val_loss: 0.0106 - val_acc: 0.9975\n",
      "Epoch 28/30\n",
      "32000/32000 [==============================] - 21s 656us/sample - loss: 0.0023 - acc: 0.9991 - val_loss: 0.0175 - val_acc: 0.9966\n",
      "Epoch 29/30\n",
      "32000/32000 [==============================] - 21s 650us/sample - loss: 0.0024 - acc: 0.9993 - val_loss: 0.0147 - val_acc: 0.9975\n",
      "Epoch 30/30\n",
      "32000/32000 [==============================] - 21s 649us/sample - loss: 0.0032 - acc: 0.9992 - val_loss: 0.0172 - val_acc: 0.9962\n"
     ]
    },
    {
     "data": {
      "text/plain": [
       "<tensorflow.python.keras.callbacks.History at 0x7f04fd1c2320>"
      ]
     },
     "execution_count": 11,
     "metadata": {
      "tags": []
     },
     "output_type": "execute_result"
    }
   ],
   "source": [
    "model.fit(X, y, batch_size = 64, epochs = 30, validation_split = .2)"
   ]
  },
  {
   "cell_type": "code",
   "execution_count": 0,
   "metadata": {
    "colab": {},
    "colab_type": "code",
    "id": "vFpQV3FH5v9r"
   },
   "outputs": [],
   "source": [
    "path = (\"drive/My Drive/dataset/Concrete_Crack_Classification_model.model\")\n",
    "model.save(path)"
   ]
  }
 ],
 "metadata": {
  "accelerator": "GPU",
  "colab": {
   "collapsed_sections": [],
   "name": "Project_Training.ipynb",
   "provenance": []
  },
  "kernelspec": {
   "display_name": "Python 3",
   "language": "python",
   "name": "python3"
  },
  "language_info": {
   "codemirror_mode": {
    "name": "ipython",
    "version": 3
   },
   "file_extension": ".py",
   "mimetype": "text/x-python",
   "name": "python",
   "nbconvert_exporter": "python",
   "pygments_lexer": "ipython3",
   "version": "3.7.4"
  }
 },
 "nbformat": 4,
 "nbformat_minor": 1
}
