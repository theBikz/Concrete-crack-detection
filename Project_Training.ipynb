{
  "nbformat": 4,
  "nbformat_minor": 0,
  "metadata": {
    "colab": {
      "name": "Project_Training.ipynb",
      "provenance": [],
      "collapsed_sections": []
    },
    "kernelspec": {
      "name": "python3",
      "display_name": "Python 3"
    },
    "accelerator": "GPU"
  },
  "cells": [
    {
      "cell_type": "code",
      "metadata": {
        "id": "99RCcgF5oX2q",
        "colab_type": "code",
        "outputId": "b9355bff-c71e-4f11-d6e2-9797358cffc4",
        "colab": {
          "base_uri": "https://localhost:8080/",
          "height": 34
        }
      },
      "source": [
        "%tensorflow_version 1.x\n",
        "import tensorflow as tf"
      ],
      "execution_count": 0,
      "outputs": [
        {
          "output_type": "stream",
          "text": [
            "TensorFlow 1.x selected.\n"
          ],
          "name": "stdout"
        }
      ]
    },
    {
      "cell_type": "code",
      "metadata": {
        "id": "xfry_xy4uQY4",
        "colab_type": "code",
        "colab": {}
      },
      "source": [
        "from tensorflow.keras.models import Sequential\n",
        "from tensorflow.keras.layers import Dense, Dropout, Activation, Flatten, Conv2D, MaxPooling2D\n",
        "import numpy as np\n",
        "import h5py"
      ],
      "execution_count": 0,
      "outputs": []
    },
    {
      "cell_type": "code",
      "metadata": {
        "id": "ql0d4rfjos05",
        "colab_type": "code",
        "outputId": "27c27f2a-0729-4edc-d82f-ded7da3ecaf2",
        "colab": {
          "base_uri": "https://localhost:8080/",
          "height": 34
        }
      },
      "source": [
        "from google.colab import drive\n",
        "drive.mount('/content/drive')"
      ],
      "execution_count": 0,
      "outputs": [
        {
          "output_type": "stream",
          "text": [
            "Drive already mounted at /content/drive; to attempt to forcibly remount, call drive.mount(\"/content/drive\", force_remount=True).\n"
          ],
          "name": "stdout"
        }
      ]
    },
    {
      "cell_type": "code",
      "metadata": {
        "id": "jXe0ACqXxHu4",
        "colab_type": "code",
        "colab": {}
      },
      "source": [
        "img_size = 256"
      ],
      "execution_count": 0,
      "outputs": []
    },
    {
      "cell_type": "code",
      "metadata": {
        "id": "vkhAc_KTxUCl",
        "colab_type": "code",
        "colab": {}
      },
      "source": [
        "path = (\"drive/My Drive/dataset/concrete_crack_image_data.h5\")"
      ],
      "execution_count": 0,
      "outputs": []
    },
    {
      "cell_type": "code",
      "metadata": {
        "id": "Ga81mGa5xUee",
        "colab_type": "code",
        "colab": {}
      },
      "source": [
        "hf = h5py.File(path,'r')"
      ],
      "execution_count": 0,
      "outputs": []
    },
    {
      "cell_type": "code",
      "metadata": {
        "id": "G4K8vwiKxUrR",
        "colab_type": "code",
        "colab": {}
      },
      "source": [
        "X = np.array(hf.get('X_concrete'))\n",
        "y = np.array(hf.get(\"y_concrete\"))\n",
        "hf.close()"
      ],
      "execution_count": 0,
      "outputs": []
    },
    {
      "cell_type": "code",
      "metadata": {
        "id": "wfYPIp92xU2P",
        "colab_type": "code",
        "colab": {}
      },
      "source": [
        "X = X / 255"
      ],
      "execution_count": 0,
      "outputs": []
    },
    {
      "cell_type": "code",
      "metadata": {
        "id": "jYcLhLGpyPrU",
        "colab_type": "code",
        "outputId": "55b0bb43-70ca-46f0-e63d-19df3e503e63",
        "colab": {
          "base_uri": "https://localhost:8080/",
          "height": 87
        }
      },
      "source": [
        "model = Sequential()\n",
        "\n",
        "model.add(Conv2D(16, (3, 3), activation = \"relu\", input_shape = (img_size, img_size, 1)))\n",
        "model.add(MaxPooling2D(pool_size = (2, 2)))\n",
        "model.add(Dropout(.3))\n",
        "\n",
        "model.add(Conv2D(32, (3, 3), activation = \"relu\"))\n",
        "model.add(MaxPooling2D(pool_size = (2, 2)))\n",
        "model.add(Dropout(.3))\n",
        "\n",
        "model.add(Conv2D(32, (3, 3), activation = \"relu\"))\n",
        "model.add(MaxPooling2D(pool_size = (2, 2)))\n",
        "model.add(Dropout(.3))\n",
        "\n",
        "model.add(Flatten())\n",
        "model.add(Dense(258, activation = \"relu\"))\n",
        "\n",
        "model.add(Dense(1, activation = \"sigmoid\"))"
      ],
      "execution_count": 0,
      "outputs": [
        {
          "output_type": "stream",
          "text": [
            "WARNING:tensorflow:From /tensorflow-1.15.2/python3.6/tensorflow_core/python/ops/resource_variable_ops.py:1630: calling BaseResourceVariable.__init__ (from tensorflow.python.ops.resource_variable_ops) with constraint is deprecated and will be removed in a future version.\n",
            "Instructions for updating:\n",
            "If using Keras pass *_constraint arguments to layers.\n"
          ],
          "name": "stdout"
        }
      ]
    },
    {
      "cell_type": "code",
      "metadata": {
        "id": "8B19jSZq148j",
        "colab_type": "code",
        "outputId": "7552b609-1b5a-4584-fda3-9c9b893ccea5",
        "colab": {
          "base_uri": "https://localhost:8080/",
          "height": 554
        }
      },
      "source": [
        "model.summary()"
      ],
      "execution_count": 0,
      "outputs": [
        {
          "output_type": "stream",
          "text": [
            "Model: \"sequential\"\n",
            "_________________________________________________________________\n",
            "Layer (type)                 Output Shape              Param #   \n",
            "=================================================================\n",
            "conv2d (Conv2D)              (None, 126, 126, 16)      160       \n",
            "_________________________________________________________________\n",
            "max_pooling2d (MaxPooling2D) (None, 63, 63, 16)        0         \n",
            "_________________________________________________________________\n",
            "dropout (Dropout)            (None, 63, 63, 16)        0         \n",
            "_________________________________________________________________\n",
            "conv2d_1 (Conv2D)            (None, 61, 61, 32)        4640      \n",
            "_________________________________________________________________\n",
            "max_pooling2d_1 (MaxPooling2 (None, 30, 30, 32)        0         \n",
            "_________________________________________________________________\n",
            "dropout_1 (Dropout)          (None, 30, 30, 32)        0         \n",
            "_________________________________________________________________\n",
            "conv2d_2 (Conv2D)            (None, 28, 28, 32)        9248      \n",
            "_________________________________________________________________\n",
            "max_pooling2d_2 (MaxPooling2 (None, 14, 14, 32)        0         \n",
            "_________________________________________________________________\n",
            "dropout_2 (Dropout)          (None, 14, 14, 32)        0         \n",
            "_________________________________________________________________\n",
            "flatten (Flatten)            (None, 6272)              0         \n",
            "_________________________________________________________________\n",
            "dense (Dense)                (None, 258)               1618434   \n",
            "_________________________________________________________________\n",
            "dense_1 (Dense)              (None, 1)                 259       \n",
            "=================================================================\n",
            "Total params: 1,632,741\n",
            "Trainable params: 1,632,741\n",
            "Non-trainable params: 0\n",
            "_________________________________________________________________\n"
          ],
          "name": "stdout"
        }
      ]
    },
    {
      "cell_type": "code",
      "metadata": {
        "id": "kbaVbzNcyP4o",
        "colab_type": "code",
        "outputId": "dc08279d-3bdc-4598-d0af-62ed9be708a1",
        "colab": {
          "base_uri": "https://localhost:8080/",
          "height": 87
        }
      },
      "source": [
        "model.compile(loss = \"binary_crossentropy\", optimizer = \"adam\", metrics = [\"accuracy\"])"
      ],
      "execution_count": 0,
      "outputs": [
        {
          "output_type": "stream",
          "text": [
            "WARNING:tensorflow:From /tensorflow-1.15.2/python3.6/tensorflow_core/python/ops/nn_impl.py:183: where (from tensorflow.python.ops.array_ops) is deprecated and will be removed in a future version.\n",
            "Instructions for updating:\n",
            "Use tf.where in 2.0, which has the same broadcast rule as np.where\n"
          ],
          "name": "stdout"
        }
      ]
    },
    {
      "cell_type": "code",
      "metadata": {
        "id": "7wdJRtkqyQD7",
        "colab_type": "code",
        "outputId": "9ff39628-d9d7-49d1-a5ec-185e8a012bfe",
        "colab": {
          "base_uri": "https://localhost:8080/",
          "height": 218
        }
      },
      "source": [
        "model.fit(X, y, batch_size = 64, epochs = 5, validation_split = .2)"
      ],
      "execution_count": 0,
      "outputs": [
        {
          "output_type": "stream",
          "text": [
            "Train on 32000 samples, validate on 8000 samples\n",
            "Epoch 1/5\n",
            "32000/32000 [==============================] - 21s 668us/sample - loss: 0.2224 - acc: 0.8880 - val_loss: 0.0549 - val_acc: 0.9841\n",
            "Epoch 2/5\n",
            "32000/32000 [==============================] - 16s 500us/sample - loss: 0.0393 - acc: 0.9870 - val_loss: 0.0260 - val_acc: 0.9919\n",
            "Epoch 3/5\n",
            "32000/32000 [==============================] - 16s 503us/sample - loss: 0.0270 - acc: 0.9912 - val_loss: 0.0271 - val_acc: 0.9902\n",
            "Epoch 4/5\n",
            "32000/32000 [==============================] - 16s 497us/sample - loss: 0.0245 - acc: 0.9918 - val_loss: 0.0232 - val_acc: 0.9924\n",
            "Epoch 5/5\n",
            "32000/32000 [==============================] - 16s 496us/sample - loss: 0.0219 - acc: 0.9931 - val_loss: 0.0174 - val_acc: 0.9944\n"
          ],
          "name": "stdout"
        },
        {
          "output_type": "execute_result",
          "data": {
            "text/plain": [
              "<tensorflow.python.keras.callbacks.History at 0x7f5b2ee89e10>"
            ]
          },
          "metadata": {
            "tags": []
          },
          "execution_count": 11
        }
      ]
    },
    {
      "cell_type": "code",
      "metadata": {
        "id": "vFpQV3FH5v9r",
        "colab_type": "code",
        "colab": {}
      },
      "source": [
        "path = (\"drive/My Drive/dataset/Concrete_Crack_Classification_model.model\")\n",
        "model.save(path)"
      ],
      "execution_count": 0,
      "outputs": []
    }
  ]
}